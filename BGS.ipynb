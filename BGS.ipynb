{
 "cells": [
  {
   "metadata": {
    "ExecuteTime": {
     "end_time": "2024-08-22T04:14:20.741354Z",
     "start_time": "2024-08-22T04:14:20.738850Z"
    }
   },
   "cell_type": "code",
   "source": [
    "    import requests\n",
    "    import csv\n",
    "    from io import StringIO\n",
    "    from obspy import UTCDateTime\n",
    "    from obspy.core.event import Catalog, Event, Origin, Magnitude\n",
    "    from obspy.geodetics import gps2dist_azimuth"
   ],
   "id": "4861cec1ae744614",
   "outputs": [],
   "execution_count": 13
  },
  {
   "cell_type": "code",
   "id": "initial_id",
   "metadata": {
    "collapsed": true,
    "ExecuteTime": {
     "end_time": "2024-08-22T04:14:19.877266Z",
     "start_time": "2024-08-22T04:14:19.873851Z"
    }
   },
   "source": [
    "def request_bgs_catalogue(self):\n",
    "    \"\"\"\n",
    "    Construct the BGS catalog request URL based on the station information and search parameters.\n",
    "\n",
    "    Returns:\n",
    "    --------\n",
    "    str\n",
    "        The URL string to request the earthquake catalog in CSV format from BGS.\n",
    "    \"\"\"\n",
    "    # Calculate start and end time\n",
    "    starttime = self.station.report_date - 30 * 5  # 5 minutes before midnight on the day before\n",
    "    endtime = self.station.report_date + (24 * 3600) + 30 * 5  # 5 minutes after midnight on the day after\n",
    "\n",
    "    # Convert radmax from degrees to kilometers (assuming Earth radius as 6371 km)\n",
    "    radius_km = self.radmax * 111.32\n",
    "\n",
    "    # Format dates for the URL\n",
    "    date1 = starttime.strftime('%Y-%m-%d')\n",
    "    date2 = endtime.strftime('%Y-%m-%d')\n",
    "\n",
    "    # Construct the BGS URL\n",
    "    url = (\n",
    "        f\"https://www.earthquakes.bgs.ac.uk/cgi-bin/get_events\"\n",
    "        f\"?lat0={self.station.latitude}\"\n",
    "        f\"&lon0={self.station.longitude}\"\n",
    "        f\"&radius={radius_km:.2f}\"\n",
    "        f\"&date1={date1}\"\n",
    "        f\"&date2={date2}\"\n",
    "        f\"&dep1=\"\n",
    "        f\"&dep2=\"\n",
    "        f\"&mag1={self.minmag}\"\n",
    "        f\"&mag2={self.maxmag}\"\n",
    "        f\"&nsta1=\"\n",
    "        f\"&nsta2=\"\n",
    "        f\"&output=csv\"\n",
    "    )\n",
    "\n",
    "    return url\n"
   ],
   "outputs": [],
   "execution_count": 12
  },
  {
   "metadata": {
    "ExecuteTime": {
     "end_time": "2024-08-22T04:14:22.481670Z",
     "start_time": "2024-08-22T04:14:22.478607Z"
    }
   },
   "cell_type": "code",
   "source": [
    "class Station:\n",
    "    def __init__(self, latitude, longitude, report_date):\n",
    "        self.latitude = latitude\n",
    "        self.longitude = longitude\n",
    "        self.report_date = report_date\n"
   ],
   "id": "6d6fa30cbac6ebdf",
   "outputs": [],
   "execution_count": 14
  },
  {
   "metadata": {
    "ExecuteTime": {
     "end_time": "2024-08-22T04:14:35.349567Z",
     "start_time": "2024-08-22T04:14:34.173868Z"
    }
   },
   "cell_type": "code",
   "source": [
    "# 示例站点信息\n",
    "latitude = 55.3781  # 英国的纬度\n",
    "longitude = -3.4360  # 英国的经度\n",
    "report_date = UTCDateTime(\"2024-08-20\")  # 示例日期\n",
    "\n",
    "# 创建Station实例\n",
    "station = Station(latitude, longitude, report_date)\n",
    "\n",
    "# 创建EarthquakeCatalog实例\n",
    "catalog_instance = EarthquakeCatalog(station)\n",
    "\n",
    "# 调用request_bgs_catalogue方法\n",
    "catalog = catalog_instance.request_bgs_catalogue()\n",
    "\n",
    "# 打印结果\n",
    "if catalog:\n",
    "    print(f\"Successfully downloaded catalog with {len(catalog.events)} events.\")\n",
    "else:\n",
    "    print(\"No events found or failed to download the catalog.\")\n"
   ],
   "id": "b4245ac0c64518fb",
   "outputs": [
    {
     "name": "stdout",
     "output_type": "stream",
     "text": [
      "No events found or failed to download the catalog.\n"
     ]
    }
   ],
   "execution_count": 15
  },
  {
   "metadata": {},
   "cell_type": "code",
   "outputs": [],
   "execution_count": null,
   "source": "print(response.url)\n",
   "id": "5c95434f73b38790"
  }
 ],
 "metadata": {
  "kernelspec": {
   "display_name": "Python 3",
   "language": "python",
   "name": "python3"
  },
  "language_info": {
   "codemirror_mode": {
    "name": "ipython",
    "version": 2
   },
   "file_extension": ".py",
   "mimetype": "text/x-python",
   "name": "python",
   "nbconvert_exporter": "python",
   "pygments_lexer": "ipython2",
   "version": "2.7.6"
  }
 },
 "nbformat": 4,
 "nbformat_minor": 5
}
