{
 "cells": [
  {
   "cell_type": "code",
   "id": "initial_id",
   "metadata": {
    "collapsed": true,
    "ExecuteTime": {
     "end_time": "2024-08-24T07:42:07.334552Z",
     "start_time": "2024-08-24T07:42:07.331109Z"
    }
   },
   "source": "from github_file import *",
   "outputs": [],
   "execution_count": 8
  },
  {
   "metadata": {
    "ExecuteTime": {
     "end_time": "2024-08-24T07:42:16.325329Z",
     "start_time": "2024-08-24T07:42:16.321654Z"
    }
   },
   "cell_type": "code",
   "source": "repo",
   "id": "8e5aea22e464cf1",
   "outputs": [
    {
     "data": {
      "text/plain": [
       "Repository(full_name=\"QingyuanZhangTony/test\")"
      ]
     },
     "execution_count": 10,
     "metadata": {},
     "output_type": "execute_result"
    }
   ],
   "execution_count": 10
  },
  {
   "metadata": {
    "ExecuteTime": {
     "end_time": "2024-08-24T04:19:02.389325Z",
     "start_time": "2024-08-24T04:19:01.614094Z"
    }
   },
   "cell_type": "code",
   "source": [
    "# 下载文件\n",
    "download_file_from_github(\"Home.py\", \"F:/Home.py\")"
   ],
   "id": "9379ea67fbcf9b10",
   "outputs": [
    {
     "name": "stdout",
     "output_type": "stream",
     "text": [
      "File 'Home.py' downloaded from GitHub to 'F:/Home.py'\n"
     ]
    }
   ],
   "execution_count": 5
  },
  {
   "metadata": {
    "ExecuteTime": {
     "end_time": "2024-08-24T04:20:32.275268Z",
     "start_time": "2024-08-24T04:20:30.723922Z"
    }
   },
   "cell_type": "code",
   "source": "upload_file_to_github(\"F:/Home.py\", \"Home2.py\")",
   "id": "676d3868c55281d2",
   "outputs": [
    {
     "name": "stdout",
     "output_type": "stream",
     "text": [
      "File 'F:/Home.py' uploaded to GitHub as 'Home2.py'\n"
     ]
    }
   ],
   "execution_count": 7
  }
 ],
 "metadata": {
  "kernelspec": {
   "display_name": "Python 3",
   "language": "python",
   "name": "python3"
  },
  "language_info": {
   "codemirror_mode": {
    "name": "ipython",
    "version": 2
   },
   "file_extension": ".py",
   "mimetype": "text/x-python",
   "name": "python",
   "nbconvert_exporter": "python",
   "pygments_lexer": "ipython2",
   "version": "2.7.6"
  }
 },
 "nbformat": 4,
 "nbformat_minor": 5
}
