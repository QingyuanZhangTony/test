{
 "cells": [
  {
   "cell_type": "code",
   "id": "initial_id",
   "metadata": {
    "collapsed": true,
    "ExecuteTime": {
     "end_time": "2024-08-24T07:42:07.334552Z",
     "start_time": "2024-08-24T07:42:07.331109Z"
    }
   },
   "source": "from github_file import *",
   "outputs": [],
   "execution_count": 8
  },
  {
   "metadata": {
    "ExecuteTime": {
     "end_time": "2024-08-24T07:42:16.325329Z",
     "start_time": "2024-08-24T07:42:16.321654Z"
    }
   },
   "cell_type": "code",
   "source": "repo",
   "id": "8e5aea22e464cf1",
   "outputs": [
    {
     "data": {
      "text/plain": [
       "Repository(full_name=\"QingyuanZhangTony/test\")"
      ]
     },
     "execution_count": 10,
     "metadata": {},
     "output_type": "execute_result"
    }
   ],
   "execution_count": 10
  },
  {
   "metadata": {
    "ExecuteTime": {
     "end_time": "2024-08-24T04:19:02.389325Z",
     "start_time": "2024-08-24T04:19:01.614094Z"
    }
   },
   "cell_type": "code",
   "source": [
    "# 下载文件\n",
    "download_file_from_github(\"Home.py\", \"F:/Home.py\")"
   ],
   "id": "9379ea67fbcf9b10",
   "outputs": [
    {
     "name": "stdout",
     "output_type": "stream",
     "text": [
      "File 'Home.py' downloaded from GitHub to 'F:/Home.py'\n"
     ]
    }
   ],
   "execution_count": 5
  },
  {
   "metadata": {
    "ExecuteTime": {
     "end_time": "2024-08-24T04:20:32.275268Z",
     "start_time": "2024-08-24T04:20:30.723922Z"
    }
   },
   "cell_type": "code",
   "source": "upload_file_to_github(\"F:/Home.py\", \"Home2.py\")",
   "id": "676d3868c55281d2",
   "outputs": [
    {
     "name": "stdout",
     "output_type": "stream",
     "text": [
      "File 'F:/Home.py' uploaded to GitHub as 'Home2.py'\n"
     ]
    }
   ],
   "execution_count": 7
  },
  {
   "metadata": {
    "ExecuteTime": {
     "end_time": "2024-08-24T09:55:14.638607Z",
     "start_time": "2024-08-24T09:55:14.635306Z"
    }
   },
   "cell_type": "code",
   "source": [
    "from github import GithubException\n",
    "\n",
    "\n",
    "def delete_all_summaries_from_github(repo_dir):\n",
    "    \"\"\"\n",
    "    Delete all files related to processed_earthquakes_summary in the specified GitHub directory.\n",
    "\n",
    "    Args:\n",
    "    - repo_dir (str): The directory in the GitHub repository where the summary files are stored.\n",
    "\n",
    "    Returns:\n",
    "    - None\n",
    "    \"\"\"\n",
    "    repo_dir = repo_dir.replace(\"\\\\\", \"/\")  # Ensure path is GitHub-compatible\n",
    "    try:\n",
    "        # Get the contents of the directory\n",
    "        contents = repo.get_contents(repo_dir)\n",
    "        for content in contents:\n",
    "            if \"processed_earthquakes_summary\" in content.name:\n",
    "                print(f\"Deleting file: {content.name}\")\n",
    "                repo.delete_file(content.path, f\"Delete summary file {content.name}\", content.sha)\n",
    "                print(f\"File '{content.name}' deleted.\")\n",
    "    except GithubException as e:\n",
    "        print(f\"An error occurred while accessing GitHub path '{repo_dir}': {str(e)}\")\n",
    "    except Exception as e:\n",
    "        print(f\"An error occurred: {str(e)}\")\n"
   ],
   "id": "e0de48188d85e9e5",
   "outputs": [],
   "execution_count": 12
  },
  {
   "metadata": {
    "ExecuteTime": {
     "end_time": "2024-08-24T09:55:44.953477Z",
     "start_time": "2024-08-24T09:55:19.052625Z"
    }
   },
   "cell_type": "code",
   "source": [
    "# 使用函数删除 GitHub 上的所有 summary 文件\n",
    "repo_dir = \"data/AM.R50D6\"  # 替换为你的仓库目录\n",
    "delete_all_summaries_from_github(repo_dir)\n"
   ],
   "id": "8abb29bf14791d46",
   "outputs": [
    {
     "name": "stdout",
     "output_type": "stream",
     "text": [
      "Deleting file: processed_earthquakes_summary_20240824094345.csv\n",
      "File 'processed_earthquakes_summary_20240824094345.csv' deleted.\n",
      "Deleting file: processed_earthquakes_summary_20240824094350.csv\n",
      "File 'processed_earthquakes_summary_20240824094350.csv' deleted.\n",
      "Deleting file: processed_earthquakes_summary_20240824094354.csv\n",
      "File 'processed_earthquakes_summary_20240824094354.csv' deleted.\n",
      "Deleting file: processed_earthquakes_summary_20240824094434.csv\n",
      "File 'processed_earthquakes_summary_20240824094434.csv' deleted.\n",
      "Deleting file: processed_earthquakes_summary_20240824094438.csv\n",
      "File 'processed_earthquakes_summary_20240824094438.csv' deleted.\n",
      "Deleting file: processed_earthquakes_summary_20240824094821.csv\n",
      "File 'processed_earthquakes_summary_20240824094821.csv' deleted.\n",
      "Deleting file: processed_earthquakes_summary_20240824094825.csv\n",
      "File 'processed_earthquakes_summary_20240824094825.csv' deleted.\n",
      "Deleting file: processed_earthquakes_summary_20240824094829.csv\n",
      "File 'processed_earthquakes_summary_20240824094829.csv' deleted.\n",
      "Deleting file: processed_earthquakes_summary_20240824174409.csv\n",
      "File 'processed_earthquakes_summary_20240824174409.csv' deleted.\n",
      "Deleting file: processed_earthquakes_summary_20240824174414.csv\n",
      "File 'processed_earthquakes_summary_20240824174414.csv' deleted.\n",
      "Deleting file: processed_earthquakes_summary_20240824174425.csv\n",
      "File 'processed_earthquakes_summary_20240824174425.csv' deleted.\n",
      "Deleting file: processed_earthquakes_summary_20240824174430.csv\n",
      "File 'processed_earthquakes_summary_20240824174430.csv' deleted.\n",
      "Deleting file: processed_earthquakes_summary_20240824175042.csv\n",
      "File 'processed_earthquakes_summary_20240824175042.csv' deleted.\n",
      "Deleting file: processed_earthquakes_summary_20240824175225.csv\n",
      "File 'processed_earthquakes_summary_20240824175225.csv' deleted.\n",
      "Deleting file: processed_earthquakes_summary_20240824175407.csv\n",
      "File 'processed_earthquakes_summary_20240824175407.csv' deleted.\n",
      "Deleting file: processed_earthquakes_summary_20240824175413.csv\n",
      "File 'processed_earthquakes_summary_20240824175413.csv' deleted.\n"
     ]
    }
   ],
   "execution_count": 13
  }
 ],
 "metadata": {
  "kernelspec": {
   "display_name": "Python 3",
   "language": "python",
   "name": "python3"
  },
  "language_info": {
   "codemirror_mode": {
    "name": "ipython",
    "version": 2
   },
   "file_extension": ".py",
   "mimetype": "text/x-python",
   "name": "python",
   "nbconvert_exporter": "python",
   "pygments_lexer": "ipython2",
   "version": "2.7.6"
  }
 },
 "nbformat": 4,
 "nbformat_minor": 5
}
