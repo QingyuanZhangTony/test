{
 "cells": [
  {
   "cell_type": "code",
   "id": "initial_id",
   "metadata": {
    "collapsed": true,
    "ExecuteTime": {
     "end_time": "2024-08-27T03:50:17.677925Z",
     "start_time": "2024-08-27T03:50:17.675890Z"
    }
   },
   "source": "from github_file import *",
   "outputs": [],
   "execution_count": 6
  },
  {
   "metadata": {
    "ExecuteTime": {
     "end_time": "2024-08-24T07:42:16.325329Z",
     "start_time": "2024-08-24T07:42:16.321654Z"
    }
   },
   "cell_type": "code",
   "source": "repo",
   "id": "8e5aea22e464cf1",
   "outputs": [
    {
     "data": {
      "text/plain": [
       "Repository(full_name=\"QingyuanZhangTony/test\")"
      ]
     },
     "execution_count": 10,
     "metadata": {},
     "output_type": "execute_result"
    }
   ],
   "execution_count": 10
  },
  {
   "metadata": {
    "ExecuteTime": {
     "end_time": "2024-08-24T04:19:02.389325Z",
     "start_time": "2024-08-24T04:19:01.614094Z"
    }
   },
   "cell_type": "code",
   "source": [
    "# 下载文件\n",
    "download_file_from_github(\"Home.py\", \"F:/Home.py\")"
   ],
   "id": "9379ea67fbcf9b10",
   "outputs": [
    {
     "name": "stdout",
     "output_type": "stream",
     "text": [
      "File 'Home.py' downloaded from GitHub to 'F:/Home.py'\n"
     ]
    }
   ],
   "execution_count": 5
  },
  {
   "metadata": {
    "ExecuteTime": {
     "end_time": "2024-08-24T04:20:32.275268Z",
     "start_time": "2024-08-24T04:20:30.723922Z"
    }
   },
   "cell_type": "code",
   "source": "upload_file_to_github(\"F:/Home.py\", \"Home2.py\")",
   "id": "676d3868c55281d2",
   "outputs": [
    {
     "name": "stdout",
     "output_type": "stream",
     "text": [
      "File 'F:/Home.py' uploaded to GitHub as 'Home2.py'\n"
     ]
    }
   ],
   "execution_count": 7
  },
  {
   "metadata": {
    "ExecuteTime": {
     "end_time": "2024-08-27T03:50:19.288109Z",
     "start_time": "2024-08-27T03:50:19.284420Z"
    }
   },
   "cell_type": "code",
   "source": [
    "from github import GithubException\n",
    "\n",
    "\n",
    "def delete_all_summaries_from_github(repo_dir):\n",
    "    \"\"\"\n",
    "    Delete all files related to processed_earthquakes_summary in the specified GitHub directory.\n",
    "\n",
    "    Args:\n",
    "    - repo_dir (str): The directory in the GitHub repository where the summary files are stored.\n",
    "\n",
    "    Returns:\n",
    "    - None\n",
    "    \"\"\"\n",
    "    repo_dir = repo_dir.replace(\"\\\\\", \"/\")  # Ensure path is GitHub-compatible\n",
    "    try:\n",
    "        # Get the contents of the directory\n",
    "        contents = repo.get_contents(repo_dir)\n",
    "        for content in contents:\n",
    "            if \"processed_earthquakes_summary\" in content.name:\n",
    "                print(f\"Deleting file: {content.name}\")\n",
    "                repo.delete_file(content.path, f\"Delete summary file {content.name}\", content.sha)\n",
    "                print(f\"File '{content.name}' deleted.\")\n",
    "    except GithubException as e:\n",
    "        print(f\"An error occurred while accessing GitHub path '{repo_dir}': {str(e)}\")\n",
    "    except Exception as e:\n",
    "        print(f\"An error occurred: {str(e)}\")\n"
   ],
   "id": "e0de48188d85e9e5",
   "outputs": [],
   "execution_count": 7
  },
  {
   "metadata": {
    "ExecuteTime": {
     "end_time": "2024-08-27T06:26:38.030391Z",
     "start_time": "2024-08-27T06:26:34.251770Z"
    }
   },
   "cell_type": "code",
   "source": [
    "from github_file import *\n",
    "# 使用函数删除 GitHub 上的所有 summary 文件\n",
    "repo_dir = \"data/AM.R50D6\"  # 替换为你的仓库目录\n",
    "delete_all_summaries_from_github(repo_dir)\n"
   ],
   "id": "8abb29bf14791d46",
   "outputs": [
    {
     "name": "stdout",
     "output_type": "stream",
     "text": [
      "Deleting file: processed_earthquakes_summary.csv\n",
      "File 'processed_earthquakes_summary.csv' deleted.\n",
      "Deleting file: processed_earthquakes_summary_backup.csv\n",
      "File 'processed_earthquakes_summary_backup.csv' deleted.\n"
     ]
    }
   ],
   "execution_count": 10
  },
  {
   "metadata": {},
   "cell_type": "code",
   "outputs": [],
   "execution_count": null,
   "source": "",
   "id": "7c01e04b43869d15"
  },
  {
   "metadata": {
    "ExecuteTime": {
     "end_time": "2024-09-03T05:25:10.110064Z",
     "start_time": "2024-09-03T05:25:07.133241Z"
    }
   },
   "cell_type": "code",
   "source": [
    "import smtplib\n",
    "from email.mime.text import MIMEText\n",
    "\n",
    "# 设置Outlook SMTP服务器的地址和端口\n",
    "SMTP_SERVER = \"smtp.zoho.com\"\n",
    "SMTP_PORT = 587\n",
    "\n",
    "# 用户的Outlook邮箱和密码\n",
    "EMAIL_ADDRESS = \"mds_testing@zohomail.com\"\n",
    "EMAIL_PASSWORD = \"zZ981108!!\"\n",
    "\n",
    "# 创建一个测试邮件\n",
    "msg = MIMEText(\"This is a test email sent from Python.\")\n",
    "msg[\"Subject\"] = \"SMTP Test Email\"\n",
    "msg[\"From\"] = EMAIL_ADDRESS\n",
    "msg[\"To\"] = EMAIL_ADDRESS  # 发送给自己\n",
    "\n",
    "try:\n",
    "    # 连接到SMTP服务器\n",
    "    server = smtplib.SMTP(SMTP_SERVER, SMTP_PORT)\n",
    "    server.starttls()  # 启用TLS加密\n",
    "    server.login(EMAIL_ADDRESS, EMAIL_PASSWORD)  # 登录\n",
    "\n",
    "    # 发送邮件\n",
    "    server.sendmail(EMAIL_ADDRESS, EMAIL_ADDRESS, msg.as_string())\n",
    "    print(\"Test email sent successfully!\")\n",
    "\n",
    "    # 关闭连接\n",
    "    server.quit()\n",
    "\n",
    "except Exception as e:\n",
    "    print(f\"Failed to send test email: {e}\")\n"
   ],
   "id": "7e3f65e8c1c64936",
   "outputs": [
    {
     "name": "stdout",
     "output_type": "stream",
     "text": [
      "Test email sent successfully!\n"
     ]
    }
   ],
   "execution_count": 6
  },
  {
   "metadata": {
    "ExecuteTime": {
     "end_time": "2024-09-03T05:08:45.170788Z",
     "start_time": "2024-09-03T05:08:38.164979Z"
    }
   },
   "cell_type": "code",
   "source": [
    "from email.message import EmailMessage\n",
    "import smtplib\n",
    "\n",
    "sender = \"isolatedisland@126.com\"\n",
    "recipient = \"outlook_E0339CE5D1BDBAC3@outlook.com\"\n",
    "message = \"Hello world!\"\n",
    "\n",
    "email = EmailMessage()\n",
    "email[\"From\"] = sender\n",
    "email[\"To\"] = recipient\n",
    "email[\"Subject\"] = \"Test Email\"\n",
    "email.set_content(message)\n",
    "\n",
    "smtp = smtplib.SMTP(\"smtp-mail.outlook.com\", port=587)\n",
    "smtp.starttls()\n",
    "smtp.login(sender, \"zZ981108!!\")\n",
    "smtp.sendmail(sender, recipient, email.as_string())\n",
    "smtp.quit()"
   ],
   "id": "6a19d0fa02368ed6",
   "outputs": [
    {
     "ename": "SMTPAuthenticationError",
     "evalue": "(535, b'5.7.3 Authentication unsuccessful [TYAPR04CA0021.apcprd04.prod.outlook.com 2024-09-03T05:08:47.059Z 08DCCBB907B7BFF4]')",
     "output_type": "error",
     "traceback": [
      "\u001B[1;31m---------------------------------------------------------------------------\u001B[0m",
      "\u001B[1;31mSMTPAuthenticationError\u001B[0m                   Traceback (most recent call last)",
      "Cell \u001B[1;32mIn[5], line 16\u001B[0m\n\u001B[0;32m     14\u001B[0m smtp \u001B[38;5;241m=\u001B[39m smtplib\u001B[38;5;241m.\u001B[39mSMTP(\u001B[38;5;124m\"\u001B[39m\u001B[38;5;124msmtp-mail.outlook.com\u001B[39m\u001B[38;5;124m\"\u001B[39m, port\u001B[38;5;241m=\u001B[39m\u001B[38;5;241m587\u001B[39m)\n\u001B[0;32m     15\u001B[0m smtp\u001B[38;5;241m.\u001B[39mstarttls()\n\u001B[1;32m---> 16\u001B[0m \u001B[43msmtp\u001B[49m\u001B[38;5;241;43m.\u001B[39;49m\u001B[43mlogin\u001B[49m\u001B[43m(\u001B[49m\u001B[43msender\u001B[49m\u001B[43m,\u001B[49m\u001B[43m \u001B[49m\u001B[38;5;124;43m\"\u001B[39;49m\u001B[38;5;124;43mzZ981108!!\u001B[39;49m\u001B[38;5;124;43m\"\u001B[39;49m\u001B[43m)\u001B[49m\n\u001B[0;32m     17\u001B[0m smtp\u001B[38;5;241m.\u001B[39msendmail(sender, recipient, email\u001B[38;5;241m.\u001B[39mas_string())\n\u001B[0;32m     18\u001B[0m smtp\u001B[38;5;241m.\u001B[39mquit()\n",
      "File \u001B[1;32m~\\anaconda3\\envs\\MDS_testing_v5\\Lib\\smtplib.py:750\u001B[0m, in \u001B[0;36mSMTP.login\u001B[1;34m(self, user, password, initial_response_ok)\u001B[0m\n\u001B[0;32m    747\u001B[0m         last_exception \u001B[38;5;241m=\u001B[39m e\n\u001B[0;32m    749\u001B[0m \u001B[38;5;66;03m# We could not login successfully.  Return result of last attempt.\u001B[39;00m\n\u001B[1;32m--> 750\u001B[0m \u001B[38;5;28;01mraise\u001B[39;00m last_exception\n",
      "File \u001B[1;32m~\\anaconda3\\envs\\MDS_testing_v5\\Lib\\smtplib.py:739\u001B[0m, in \u001B[0;36mSMTP.login\u001B[1;34m(self, user, password, initial_response_ok)\u001B[0m\n\u001B[0;32m    737\u001B[0m method_name \u001B[38;5;241m=\u001B[39m \u001B[38;5;124m'\u001B[39m\u001B[38;5;124mauth_\u001B[39m\u001B[38;5;124m'\u001B[39m \u001B[38;5;241m+\u001B[39m authmethod\u001B[38;5;241m.\u001B[39mlower()\u001B[38;5;241m.\u001B[39mreplace(\u001B[38;5;124m'\u001B[39m\u001B[38;5;124m-\u001B[39m\u001B[38;5;124m'\u001B[39m, \u001B[38;5;124m'\u001B[39m\u001B[38;5;124m_\u001B[39m\u001B[38;5;124m'\u001B[39m)\n\u001B[0;32m    738\u001B[0m \u001B[38;5;28;01mtry\u001B[39;00m:\n\u001B[1;32m--> 739\u001B[0m     (code, resp) \u001B[38;5;241m=\u001B[39m \u001B[38;5;28;43mself\u001B[39;49m\u001B[38;5;241;43m.\u001B[39;49m\u001B[43mauth\u001B[49m\u001B[43m(\u001B[49m\n\u001B[0;32m    740\u001B[0m \u001B[43m        \u001B[49m\u001B[43mauthmethod\u001B[49m\u001B[43m,\u001B[49m\u001B[43m \u001B[49m\u001B[38;5;28;43mgetattr\u001B[39;49m\u001B[43m(\u001B[49m\u001B[38;5;28;43mself\u001B[39;49m\u001B[43m,\u001B[49m\u001B[43m \u001B[49m\u001B[43mmethod_name\u001B[49m\u001B[43m)\u001B[49m\u001B[43m,\u001B[49m\n\u001B[0;32m    741\u001B[0m \u001B[43m        \u001B[49m\u001B[43minitial_response_ok\u001B[49m\u001B[38;5;241;43m=\u001B[39;49m\u001B[43minitial_response_ok\u001B[49m\u001B[43m)\u001B[49m\n\u001B[0;32m    742\u001B[0m     \u001B[38;5;66;03m# 235 == 'Authentication successful'\u001B[39;00m\n\u001B[0;32m    743\u001B[0m     \u001B[38;5;66;03m# 503 == 'Error: already authenticated'\u001B[39;00m\n\u001B[0;32m    744\u001B[0m     \u001B[38;5;28;01mif\u001B[39;00m code \u001B[38;5;129;01min\u001B[39;00m (\u001B[38;5;241m235\u001B[39m, \u001B[38;5;241m503\u001B[39m):\n",
      "File \u001B[1;32m~\\anaconda3\\envs\\MDS_testing_v5\\Lib\\smtplib.py:662\u001B[0m, in \u001B[0;36mSMTP.auth\u001B[1;34m(self, mechanism, authobject, initial_response_ok)\u001B[0m\n\u001B[0;32m    660\u001B[0m \u001B[38;5;28;01mif\u001B[39;00m code \u001B[38;5;129;01min\u001B[39;00m (\u001B[38;5;241m235\u001B[39m, \u001B[38;5;241m503\u001B[39m):\n\u001B[0;32m    661\u001B[0m     \u001B[38;5;28;01mreturn\u001B[39;00m (code, resp)\n\u001B[1;32m--> 662\u001B[0m \u001B[38;5;28;01mraise\u001B[39;00m SMTPAuthenticationError(code, resp)\n",
      "\u001B[1;31mSMTPAuthenticationError\u001B[0m: (535, b'5.7.3 Authentication unsuccessful [TYAPR04CA0021.apcprd04.prod.outlook.com 2024-09-03T05:08:47.059Z 08DCCBB907B7BFF4]')"
     ]
    }
   ],
   "execution_count": 5
  }
 ],
 "metadata": {
  "kernelspec": {
   "display_name": "Python 3",
   "language": "python",
   "name": "python3"
  },
  "language_info": {
   "codemirror_mode": {
    "name": "ipython",
    "version": 2
   },
   "file_extension": ".py",
   "mimetype": "text/x-python",
   "name": "python",
   "nbconvert_exporter": "python",
   "pygments_lexer": "ipython2",
   "version": "2.7.6"
  }
 },
 "nbformat": 4,
 "nbformat_minor": 5
}
